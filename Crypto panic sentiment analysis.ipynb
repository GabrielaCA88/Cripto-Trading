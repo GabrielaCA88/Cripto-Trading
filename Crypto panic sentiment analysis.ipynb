{
 "cells": [
  {
   "cell_type": "code",
   "execution_count": 2,
   "metadata": {},
   "outputs": [],
   "source": [
    "import requests\n",
    "from bs4 import BeautifulSoup\n",
    "import pandas as pd"
   ]
  },
  {
   "cell_type": "code",
   "execution_count": null,
   "metadata": {},
   "outputs": [],
   "source": [
    "monedas= ['bitcoin', 'ethereum','xrp', 'tether', 'chainlink', 'bitcoin-cash','litecoin', 'bitcoin-sv','cardano','crypto-com-coin']"
   ]
  },
  {
   "cell_type": "code",
   "execution_count": null,
   "metadata": {},
   "outputs": [],
   "source": [
    "for moneda in monedas:\n",
    "    response=requests.get(\"https://cryptopanic.com/news/\" + str(moneda)+'/')\n",
    "    if response.status_code == requests.codes.ok:\n",
    "           \n",
    "        noticia= scraped.find ('span', class_='title-text')\n",
    "        if Descripcion:\n",
    "            Descripcion = Descripcion.text.strip()\n",
    "            Descripcion= re.sub(r'\\W', ' ', Descripcion)\n",
    "            Descripcion= re.sub(r'\\d', ' ', Descripcion)\n",
    "            Descripciones.append(Descripcion)\n",
    "        else:\n",
    "            Descripciones.append(' ')\n",
    "               \n",
    "    else:\n",
    "        nodes_nook.append (node)"
   ]
  },
  {
   "cell_type": "code",
   "execution_count": 17,
   "metadata": {},
   "outputs": [],
   "source": [
    "url='https://cryptopanic.com/'\n",
    "response=requests.get(url)\n",
    "html=response.content\n",
    "scraped=BeautifulSoup(html,'html.parser')\n",
    "\n",
    "##https://openwebinars.net/blog/como-hacer-web-scraping-con-selenium/ "
   ]
  },
  {
   "cell_type": "code",
   "execution_count": 20,
   "metadata": {},
   "outputs": [],
   "source": [
    "scraped.title"
   ]
  },
  {
   "cell_type": "code",
   "execution_count": 21,
   "metadata": {},
   "outputs": [
    {
     "data": {
      "text/plain": [
       "'CryptoPanic - News aggregator platform indicating impact on price and market for traders and cryptocurrency enthusiasts'"
      ]
     },
     "execution_count": 21,
     "metadata": {},
     "output_type": "execute_result"
    }
   ],
   "source": [
    "scraped.title.text.strip()"
   ]
  },
  {
   "cell_type": "code",
   "execution_count": null,
   "metadata": {},
   "outputs": [],
   "source": []
  }
 ],
 "metadata": {
  "kernelspec": {
   "display_name": "Python 3",
   "language": "python",
   "name": "python3"
  },
  "language_info": {
   "codemirror_mode": {
    "name": "ipython",
    "version": 3
   },
   "file_extension": ".py",
   "mimetype": "text/x-python",
   "name": "python",
   "nbconvert_exporter": "python",
   "pygments_lexer": "ipython3",
   "version": "3.8.1"
  }
 },
 "nbformat": 4,
 "nbformat_minor": 4
}
